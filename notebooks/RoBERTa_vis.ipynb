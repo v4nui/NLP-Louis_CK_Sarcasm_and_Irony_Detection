{
 "cells": [
  {
   "cell_type": "markdown",
   "id": "0ea8a1f7",
   "metadata": {},
   "source": [
    "# RoBERTa - fine-tuned transformer overview"
   ]
  },
  {
   "cell_type": "markdown",
   "id": "05ddaa38",
   "metadata": {},
   "source": [
    "## ✅🔁 Load model and tokenizer"
   ]
  },
  {
   "cell_type": "code",
   "execution_count": 1,
   "id": "79ff2541",
   "metadata": {},
   "outputs": [],
   "source": [
    "from transformers import AutoTokenizer, AutoModelForSequenceClassification\n",
    "from sklearn.metrics import classification_report\n",
    "import torch\n",
    "import os\n",
    "import pandas as pd\n",
    "import matplotlib.pyplot as plt\n",
    "import numpy as np \n",
    "import seaborn as sns\n",
    "from sklearn.metrics import roc_curve, auc\n",
    "from sklearn.metrics import confusion_matrix, ConfusionMatrixDisplay\n",
    "\n",
    "model_path = \"../models/roberta_louisck\"\n",
    "model = AutoModelForSequenceClassification.from_pretrained(model_path)\n",
    "tokenizer = AutoTokenizer.from_pretrained(model_path)\n"
   ]
  },
  {
   "cell_type": "markdown",
   "id": "9a21a45a",
   "metadata": {},
   "source": [
    "## ✅🧾 Load validation data"
   ]
  },
  {
   "cell_type": "code",
   "execution_count": 2,
   "id": "b034328e",
   "metadata": {},
   "outputs": [],
   "source": [
    "val_df = pd.read_csv(\"../data/louis_ck_val_auto_labeled.csv\")\n",
    "\n",
    "# Map text labels to integers (in case you didn’t before)\n",
    "label_map = {\"non_irony\": 0, \"irony\": 1}\n",
    "val_df[\"label\"] = val_df[\"irony_sarcasm_label\"].str.lower().str.strip().map(label_map).astype(int)\n"
   ]
  },
  {
   "cell_type": "markdown",
   "id": "cc45c5c5",
   "metadata": {},
   "source": [
    "## ✅🧠 Tokenize validation set and predict"
   ]
  },
  {
   "cell_type": "code",
   "execution_count": 3,
   "id": "70610f1d",
   "metadata": {},
   "outputs": [],
   "source": [
    "# Tokenize the validation text\n",
    "encodings = tokenizer(\n",
    "    val_df[\"context_window\"].tolist(),\n",
    "    truncation=True,\n",
    "    padding=True,\n",
    "    max_length=128,\n",
    "    return_tensors=\"pt\"\n",
    ")\n",
    "\n",
    "# Predict\n",
    "model.eval()\n",
    "with torch.no_grad():\n",
    "    outputs = model(**encodings)\n",
    "    logits = outputs.logits\n",
    "    y_pred = torch.argmax(logits, dim=1).numpy()\n",
    "\n",
    "y_true = val_df[\"label\"].to_numpy()\n"
   ]
  },
  {
   "cell_type": "markdown",
   "id": "27bce762",
   "metadata": {},
   "source": [
    "## ✅📊 Confusion Matrix"
   ]
  },
  {
   "cell_type": "code",
   "execution_count": 4,
   "id": "56807c47",
   "metadata": {},
   "outputs": [
    {
     "data": {
      "image/png": "[encoded data removed]",
      "text/plain": [
       "<Figure size 640x480 with 1 Axes>"
      ]
     },
     "metadata": {
      "needs_background": "dark"
     },
     "output_type": "display_data"
    }
   ],
   "source": [
    "cm = confusion_matrix(y_true, y_pred)\n",
    "disp = ConfusionMatrixDisplay(confusion_matrix=cm, display_labels=[\"Non_irony\", \"Irony\"])\n",
    "\n",
    "fig, ax = plt.subplots()\n",
    "disp.plot(ax=ax, cmap=\"Greens\", colorbar=False)\n",
    "\n",
    "# Make background transparent and all text white\n",
    "fig.patch.set_alpha(0.0)              # Transparent background\n",
    "ax.set_facecolor('none')              # Transparent axes\n",
    "for label in (ax.get_xticklabels() + ax.get_yticklabels() + [ax.title, ax.xaxis.label, ax.yaxis.label]):\n",
    "    label.set_color('white')          # White text\n",
    "ax.spines['top'].set_color('white')\n",
    "ax.spines['bottom'].set_color('white')\n",
    "ax.spines['left'].set_color('white')\n",
    "ax.spines['right'].set_color('white')\n",
    "ax.tick_params(colors='white')        # White ticks\n",
    "plt.grid(False)\n",
    "plt.tight_layout()\n",
    "plt.show()\n"
   ]
  },
  {
   "cell_type": "markdown",
   "id": "46ade1cc",
   "metadata": {},
   "source": [
    "## ✅🧮 Classification Report"
   ]
  },
  {
   "cell_type": "code",
   "execution_count": 5,
   "id": "4a1c40b6",
   "metadata": {},
   "outputs": [
    {
     "name": "stdout",
     "output_type": "stream",
     "text": [
      "              precision    recall  f1-score   support\n",
      "\n",
      "   Non_irony       0.96      0.97      0.97       310\n",
      "       Irony       0.71      0.67      0.69        33\n",
      "\n",
      "    accuracy                           0.94       343\n",
      "   macro avg       0.84      0.82      0.83       343\n",
      "weighted avg       0.94      0.94      0.94       343\n",
      "\n"
     ]
    }
   ],
   "source": [
    "print(classification_report(y_true, y_pred, target_names=[\"Non_irony\", \"Irony\"]))"
   ]
  },
  {
   "cell_type": "code",
   "execution_count": 6,
   "id": "17289aa8",
   "metadata": {},
   "outputs": [
    {
     "name": "stderr",
     "output_type": "stream",
     "text": [
      "C:\\Users\\Vanuhi\\AppData\\Local\\Temp\\ipykernel_17900\\1674007028.py:2: UserWarning: To copy construct from a tensor, it is recommended to use sourceTensor.clone().detach() or sourceTensor.clone().detach().requires_grad_(True), rather than torch.tensor(sourceTensor).\n",
      "  y_score = torch.nn.functional.softmax(torch.tensor(logits), dim=-1)[:, 1].numpy()\n"
     ]
    },
    {
     "data": {
      "image/png": "[encoded data removed]",
      "text/plain": [
       "<Figure size 640x480 with 1 Axes>"
      ]
     },
     "metadata": {},
     "output_type": "display_data"
    }
   ],
   "source": [
    "# y_score = softmax output for class 1 (irony)\n",
    "y_score = torch.nn.functional.softmax(torch.tensor(logits), dim=-1)[:, 1].numpy()\n",
    "\n",
    "fpr, tpr, _ = roc_curve(y_true, y_score)\n",
    "roc_auc = auc(fpr, tpr)\n",
    "\n",
    "plt.figure()\n",
    "plt.plot(fpr, tpr, color='green', lw=2, label=f'ROC curve (AUC = {roc_auc:.2f})')\n",
    "plt.plot([0, 1], [0, 1], color='white', linestyle='--', lw=1)\n",
    "\n",
    "plt.xlim([0.0, 1.0])\n",
    "plt.ylim([0.0, 1.05])\n",
    "plt.xlabel('False Positive Rate', color='white')\n",
    "plt.ylabel('True Positive Rate', color='white')\n",
    "plt.title('ROC Curve', color='white')\n",
    "plt.legend(loc=\"lower right\", facecolor='none', edgecolor='white', labelcolor='white')\n",
    "\n",
    "ax = plt.gca()\n",
    "ax.set_facecolor('none')                   # Transparent axes\n",
    "ax.tick_params(colors='white')            # White ticks\n",
    "for spine in ax.spines.values():\n",
    "    spine.set_edgecolor('white')          # White frame\n",
    "plt.grid(False)\n",
    "plt.tight_layout()\n",
    "plt.show()\n"
   ]
  },
  {
   "cell_type": "markdown",
   "id": "96831436",
   "metadata": {},
   "source": [
    "## ✅📊 Heatmap of Precision / Recall / F1"
   ]
  },
  {
   "cell_type": "code",
   "execution_count": 7,
   "id": "e9f23d6b",
   "metadata": {},
   "outputs": [
    {
     "data": {
      "image/png": "[encoded data removed]",
      "text/plain": [
       "<Figure size 600x300 with 1 Axes>"
      ]
     },
     "metadata": {},
     "output_type": "display_data"
    }
   ],
   "source": [
    "from sklearn.metrics import classification_report\n",
    "import seaborn as sns\n",
    "import matplotlib.pyplot as plt\n",
    "import pandas as pd\n",
    "\n",
    "# Get the report as a dict\n",
    "report_dict = classification_report(y_true, y_pred, output_dict=True, target_names=[\"Non_irony\", \"Irony\"])\n",
    "\n",
    "# Turn into a DataFrame (exclude 'accuracy', 'macro avg', etc. if you want)\n",
    "report_df = pd.DataFrame(report_dict).transpose().round(2)\n",
    "display_df = report_df.loc[[\"Non_irony\", \"Irony\"], [\"precision\", \"recall\", \"f1-score\"]]\n",
    "\n",
    "# Plot it\n",
    "plt.figure(figsize=(6, 3))\n",
    "sns.heatmap(display_df, annot=True, cmap=\"Greens\", fmt=\".2f\", cbar=False,\n",
    "            annot_kws={\"color\": \"white\", \"size\": 12})\n",
    "\n",
    "plt.title(\"Classification Report\", color=\"white\")\n",
    "plt.xticks(color='white')\n",
    "plt.yticks(color='white', rotation=0)\n",
    "plt.gca().set_facecolor('none')\n",
    "plt.tight_layout()\n",
    "plt.savefig(\"../plots/classification_report_heatmap.png\", transparent=True, dpi=300)\n",
    "plt.show()\n"
   ]
  }
 ],
 "metadata": {
  "kernelspec": {
   "display_name": "nlpenv",
   "language": "python",
   "name": "python3"
  },
  "language_info": {
   "codemirror_mode": {
    "name": "ipython",
    "version": 3
   },
   "file_extension": ".py",
   "mimetype": "text/x-python",
   "name": "python",
   "nbconvert_exporter": "python",
   "pygments_lexer": "ipython3",
   "version": "3.12.4"
  }
 },
 "nbformat": 4,
 "nbformat_minor": 5
}
