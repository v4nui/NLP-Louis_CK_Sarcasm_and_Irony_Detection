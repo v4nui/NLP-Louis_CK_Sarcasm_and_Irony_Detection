{
 "cells": [
  {
   "cell_type": "markdown",
   "id": "460aa4db",
   "metadata": {},
   "source": [
    "# ML: Baseline and tuned SVM"
   ]
  },
  {
   "cell_type": "code",
   "execution_count": 1,
   "id": "9bde2eba",
   "metadata": {},
   "outputs": [],
   "source": [
    "# Library imports\n",
    "import pickle\n",
    "import numpy as np\n",
    "import pandas as pd\n",
    "from sklearn.svm import SVC\n",
    "import matplotlib.pyplot as plt\n",
    "from sklearn.pipeline import Pipeline\n",
    "from sklearn.metrics import classification_report\n",
    "from sklearn.feature_extraction.text import TfidfVectorizer\n",
    "from sklearn.model_selection import GridSearchCV, train_test_split"
   ]
  },
  {
   "cell_type": "markdown",
   "id": "9b686bcd",
   "metadata": {},
   "source": [
    "### Load and prepare for classification(map target)"
   ]
  },
  {
   "cell_type": "code",
   "execution_count": 2,
   "id": "a413af24",
   "metadata": {},
   "outputs": [],
   "source": [
    "# Load the data\n",
    "train_df = pd.read_csv(\"../data/louis_ck_train_auto_labeled.csv\")\n",
    "val_df = pd.read_csv(\"../data/louis_ck_val_auto_labeled.csv\")\n",
    "test_df = pd.read_csv(\"../data/louis_ck_test_auto_labeled.csv\")\n",
    "\n",
    "# encode binary labels to 0 and 1\n",
    "label_map = {'non_irony': 0, 'irony': 1}\n",
    "\n",
    "train_df['label_binary'] = train_df['irony_sarcasm_label'].map(label_map)\n",
    "test_df['label_binary'] = test_df['irony_sarcasm_label'].map(label_map)\n",
    "val_df['label_binary'] = val_df['irony_sarcasm_label'].map(label_map)"
   ]
  },
  {
   "cell_type": "markdown",
   "id": "e151c097",
   "metadata": {},
   "source": [
    "### Vectorize and split"
   ]
  },
  {
   "cell_type": "code",
   "execution_count": 3,
   "id": "df554d66",
   "metadata": {},
   "outputs": [],
   "source": [
    "# label columns clean up\n",
    "train_df['irony_sarcasm_label'] = train_df['irony_sarcasm_label'].str.lower().str.strip()\n",
    "val_df['irony_sarcasm_label'] = val_df['irony_sarcasm_label'].str.lower().str.strip()\n",
    "test_df['irony_sarcasm_label'] = test_df['irony_sarcasm_label'].str.lower().str.strip()\n",
    "\n",
    "# vectorization\n",
    "vectorizer = TfidfVectorizer(\n",
    "    lowercase=True,\n",
    "    max_features=10000,\n",
    "    ngram_range=(1, 2)\n",
    ")\n",
    "\n",
    "X_train = vectorizer.fit_transform(train_df['context_window'])\n",
    "X_val = vectorizer.transform(val_df['context_window'])\n",
    "X_test = vectorizer.transform(test_df['context_window'])\n",
    "\n",
    "y_train = train_df['label_binary']\n",
    "y_val = val_df['label_binary']\n",
    "y_test = test_df['label_binary']"
   ]
  },
  {
   "cell_type": "markdown",
   "id": "269c00cf",
   "metadata": {},
   "source": [
    "### Run the baseline model"
   ]
  },
  {
   "cell_type": "code",
   "execution_count": 4,
   "id": "6df769cf",
   "metadata": {},
   "outputs": [
    {
     "name": "stdout",
     "output_type": "stream",
     "text": [
      "               precision    recall  f1-score   support\n",
      "\n",
      "         none       0.98      0.91      0.94       310\n",
      "sarcasm_irony       0.49      0.85      0.62        33\n",
      "\n",
      "     accuracy                           0.90       343\n",
      "    macro avg       0.74      0.88      0.78       343\n",
      " weighted avg       0.94      0.90      0.91       343\n",
      "\n",
      "Test Set Evaluation:\n",
      "               precision    recall  f1-score   support\n",
      "\n",
      "         none       0.99      0.91      0.95       322\n",
      "sarcasm_irony       0.40      0.86      0.55        22\n",
      "\n",
      "     accuracy                           0.91       344\n",
      "    macro avg       0.70      0.89      0.75       344\n",
      " weighted avg       0.95      0.91      0.92       344\n",
      "\n"
     ]
    }
   ],
   "source": [
    "# model training\n",
    "baseline_model = SVC(kernel='linear', probability=True, class_weight='balanced') \n",
    "baseline_model.fit(X_train, y_train)\n",
    "\n",
    "# check on validation set\n",
    "y_val_pred = baseline_model.predict(X_val)\n",
    "print(classification_report(y_val, y_val_pred, target_names=['none', 'sarcasm_irony']))\n",
    "\n",
    "# test set evaluation\n",
    "y_test_pred = baseline_model.predict(X_test)\n",
    "print(\"Test Set Evaluation:\")\n",
    "print(classification_report(y_test, y_test_pred, target_names=['none', 'sarcasm_irony']))"
   ]
  },
  {
   "cell_type": "markdown",
   "id": "6f0c81ca",
   "metadata": {},
   "source": [
    "### Save the baseline model"
   ]
  },
  {
   "cell_type": "code",
   "execution_count": 5,
   "id": "5019618a",
   "metadata": {},
   "outputs": [
    {
     "name": "stdout",
     "output_type": "stream",
     "text": [
      "Baseline model saved using pickle as svm_model_baseline.pkl\n",
      "TfidfVectorizer saved using pickle as tfidf_vectorizer.pkl\n"
     ]
    }
   ],
   "source": [
    "# save the baseline SVC model\n",
    "with open(\"../models/svm_model_baseline.pkl\", \"wb\") as file:\n",
    "    pickle.dump(baseline_model, file)\n",
    "\n",
    "print(\"Baseline model saved using pickle as svm_model_baseline.pkl\")\n",
    "\n",
    "\n",
    "# save the vectorizer\n",
    "with open(\"../models/tfidf_vectorizer.pkl\", \"wb\") as file:\n",
    "    pickle.dump(vectorizer, file)\n",
    "print(\"TfidfVectorizer saved using pickle as tfidf_vectorizer.pkl\")\n"
   ]
  },
  {
   "cell_type": "markdown",
   "id": "0e5b5f3e",
   "metadata": {},
   "source": [
    "# Hyperparameter tuning: SVM"
   ]
  },
  {
   "cell_type": "code",
   "execution_count": 6,
   "id": "785b4515",
   "metadata": {},
   "outputs": [
    {
     "name": "stdout",
     "output_type": "stream",
     "text": [
      "Fitting 5 folds for each of 144 candidates, totalling 720 fits\n",
      "Best Parameters: {'svc__C': 10, 'svc__degree': 2, 'svc__gamma': 'scale', 'svc__kernel': 'rbf', 'tfidf__max_features': 5000, 'tfidf__ngram_range': (1, 1)}\n",
      "Best Cross-Validation Score: 0.706067020761328\n",
      "Test Set Evaluation:\n",
      "              precision    recall  f1-score   support\n",
      "\n",
      "  none_irony       0.97      0.98      0.97       322\n",
      "       irony       0.62      0.59      0.60        22\n",
      "\n",
      "    accuracy                           0.95       344\n",
      "   macro avg       0.80      0.78      0.79       344\n",
      "weighted avg       0.95      0.95      0.95       344\n",
      "\n"
     ]
    }
   ],
   "source": [
    "# pipeline: vectorizer, SVM\n",
    "pipeline = Pipeline([\n",
    "    ('tfidf', TfidfVectorizer(\n",
    "                lowercase=True,\n",
    "                stop_words='english'\n",
    "            )),\n",
    "    ('svc', SVC(probability=True, class_weight='balanced'))\n",
    "])\n",
    "\n",
    "# Define parameter grid for hyperparameter tuning:\n",
    "param_grid = {\n",
    "    # TfidfVectorizer hyperparameters\n",
    "    'tfidf__max_features': [5000, 10000],\n",
    "    'tfidf__ngram_range': [(1, 1), (1, 2)],\n",
    "\n",
    "    # SVC hyperparameters\n",
    "    'svc__C': [0.1, 1, 10],\n",
    "    'svc__kernel': ['linear', 'rbf', 'poly'],\n",
    "    # 'gamma' is relevant for 'rbf', 'poly', or 'sigmoid' kernels\n",
    "    'svc__gamma': ['scale', 'auto'],\n",
    "    # Only when kernel is 'poly'; set some values to try\n",
    "    'svc__degree': [2, 3]\n",
    "}\n",
    "\n",
    "# Instantiate GridSearchCV for cross-validation\n",
    "grid_search = GridSearchCV(\n",
    "    pipeline,\n",
    "    param_grid,\n",
    "    cv=5,            # 5-fold cross-validation\n",
    "    n_jobs=-1,       # use all processors\n",
    "    verbose=2,\n",
    "    scoring='f1'     # adjust scoring metric as needed\n",
    ")\n",
    "\n",
    "# Fit GridSearchCV on your training data\n",
    "grid_search.fit(train_df['context_window'], train_df['label_binary'])\n",
    "\n",
    "# Print best parameters and best score\n",
    "print(\"Best Parameters:\", grid_search.best_params_)\n",
    "print(\"Best Cross-Validation Score:\", grid_search.best_score_)\n",
    "\n",
    "# Evaluate on the test set:\n",
    "y_test_pred = grid_search.predict(test_df['context_window'])\n",
    "print(\"Test Set Evaluation:\")\n",
    "print(classification_report(test_df['label_binary'], y_test_pred, target_names=['none_irony', 'irony']))"
   ]
  },
  {
   "cell_type": "markdown",
   "id": "d95ca459",
   "metadata": {},
   "source": [
    "### Save the model"
   ]
  },
  {
   "cell_type": "code",
   "execution_count": 7,
   "id": "78bc4c91",
   "metadata": {},
   "outputs": [
    {
     "name": "stdout",
     "output_type": "stream",
     "text": [
      "Best hyper-tuned model saved as svm_model_tuned.pkl\n"
     ]
    }
   ],
   "source": [
    "best_model = grid_search.best_estimator_\n",
    "\n",
    "# Save the best hyperparameter tuned model to a file\n",
    "with open(\"../models/svm_model_tuned.pkl\", \"wb\") as file:\n",
    "    pickle.dump(best_model, file)\n",
    "\n",
    "print(\"Best hyper-tuned model saved as svm_model_tuned.pkl\")\n"
   ]
  },
  {
   "cell_type": "markdown",
   "id": "503743b7",
   "metadata": {},
   "source": [
    "# Visualizations"
   ]
  },
  {
   "cell_type": "code",
   "execution_count": null,
   "id": "687385ee",
   "metadata": {},
   "outputs": [
    {
     "data": {
      "image/png": "[encoded data removed]",
      "text/plain": [
       "<Figure size 600x600 with 1 Axes>"
      ]
     },
     "metadata": {
      "needs_background": "dark"
     },
     "output_type": "display_data"
    }
   ],
   "source": [
    "import matplotlib.pyplot as plt\n",
    "import seaborn as sns\n",
    "import numpy as np\n",
    "from matplotlib.colors import LinearSegmentedColormap\n",
    "\n",
    "# Define custom colormaps that transition from white to the desired color\n",
    "yellow_cmap = LinearSegmentedColormap.from_list(\"custom_yellow\", [\"white\", \"yellow\"])\n",
    "green_cmap = LinearSegmentedColormap.from_list(\"custom_green\", [\"white\", \"blue\"])\n",
    "\n",
    "# Approximate confusion matrices based on your earlier results\n",
    "# Using consistent class labels: \"non_irony\" and \"irony\"\n",
    "cm_baseline = np.array([[293, 29],\n",
    "                        [3,  19]])\n",
    "\n",
    "cm_tuned = np.array([[314, 8],\n",
    "                     [9,  13]])\n",
    "\n",
    "def plot_confusion_matrix(cm, title, classes, cmap, save_path=None):\n",
    "    \"\"\"\n",
    "    Plots a confusion matrix with a custom colormap, transparent background,\n",
    "    and all text styled in white to match the presentation theme.\n",
    "    \n",
    "    Parameters:\n",
    "      - cm: 2D numpy array for the confusion matrix.\n",
    "      - title: Title for the plot.\n",
    "      - classes: List of class labels for the axes.\n",
    "      - cmap: Custom colormap.\n",
    "      - save_path: If provided, saves the plot to the given path.\n",
    "    \"\"\"\n",
    "    # Create a figure and axes\n",
    "    fig, ax = plt.subplots(figsize=(6, 6))\n",
    "    \n",
    "    # Make the figure background transparent\n",
    "    fig.patch.set_alpha(0.0)\n",
    "    # Set transparent background for the axes\n",
    "    ax.set_facecolor('none')\n",
    "    \n",
    "    # Plot confusion matrix as a heatmap; ensure annotation text is white.\n",
    "    sns.heatmap(cm, annot=True, fmt='d', cmap=cmap,\n",
    "                xticklabels=classes, yticklabels=classes,\n",
    "                cbar=False, ax=ax, annot_kws={\"color\": \"white\"})\n",
    "    \n",
    "    # Set title and axis labels with white text\n",
    "    ax.set_title(title, color='white')\n",
    "    ax.set_xlabel('Predicted', color='white')\n",
    "    ax.set_ylabel('Actual', color='white')\n",
    "    \n",
    "    # Set tick parameters so ticks and tick labels appear in white\n",
    "    ax.tick_params(axis='both', colors='white')\n",
    "    for label in ax.get_xticklabels() + ax.get_yticklabels():\n",
    "        label.set_color('white')\n",
    "    \n",
    "    # Set all axes spines (frame lines) to white\n",
    "    for spine in ax.spines.values():\n",
    "        spine.set_edgecolor('white')\n",
    "    \n",
    "    # Remove grid lines and tighten the layout\n",
    "    plt.grid(False)\n",
    "    plt.tight_layout()\n",
    "    \n",
    "    # Save the figure with a transparent background if a path is provided\n",
    "    if save_path:\n",
    "        plt.savefig(save_path, dpi=300, bbox_inches='tight', transparent=True)\n",
    "    \n",
    "    plt.show()\n",
    "\n",
    "# Use common class labels for both models\n",
    "classes_common = ['non_irony', 'irony']\n",
    "\n",
    "# Plot and save the confusion matrices\n",
    "# plot_confusion_matrix(cm_baseline, \n",
    "#                       \"Baseline Confusion Matrix (Test Set)\", \n",
    "#                       classes_common, \n",
    "#                       cmap=yellow_cmap, \n",
    "#                       save_path=\"../plots/baseline_cm_yellow.png\")\n",
    "\n",
    "plot_confusion_matrix(cm_tuned, \n",
    "                      \"Hyperparameter Tuned Confusion Matrix (Test Set)\", \n",
    "                      classes_common, \n",
    "                      cmap=green_cmap, \n",
    "                      save_path=\"../plots/tuned_cm_blue.png\")\n"
   ]
  }
 ],
 "metadata": {
  "kernelspec": {
   "display_name": "nlpenv",
   "language": "python",
   "name": "python3"
  },
  "language_info": {
   "codemirror_mode": {
    "name": "ipython",
    "version": 3
   },
   "file_extension": ".py",
   "mimetype": "text/x-python",
   "name": "python",
   "nbconvert_exporter": "python",
   "pygments_lexer": "ipython3",
   "version": "3.12.4"
  }
 },
 "nbformat": 4,
 "nbformat_minor": 5
}
